{
 "cells": [
  {
   "cell_type": "code",
   "execution_count": 2,
   "id": "f3fcef86",
   "metadata": {},
   "outputs": [],
   "source": [
    "from PIL import Image\n",
    "import os\n",
    "import pillow_avif\n"
   ]
  },
  {
   "cell_type": "code",
   "execution_count": null,
   "id": "3cbf414e",
   "metadata": {},
   "outputs": [],
   "source": [
    "\n",
    "# Declaring the input and output directories:\n",
    "input_image_folders = [\"/Users/user/Desktop/Schiaperelli Spring 2025 Couture Runway Images\",\n",
    "                       \"/Users/user/Desktop/Jacquemus Spring 2025 Images\",\n",
    "                       \"/Users/user/Desktop/Chanel Spring-Summer 2025 Haute Couture\"]\n",
    "output_image_folder = \"/Users/user/Desktop/AllRunwayimages\"\n",
    "\n",
    "# Loop through all input folders:\n",
    "for folder in input_image_folders:\n",
    "    for filename in os.listdir(folder):\n",
    "        if filename.lower().endswith((\".webp\", \".avif\", \".png\", \".jpg\")):\n",
    "            img_path = os.path.join(folder, filename)\n",
    "            img = Image.open(img_path).convert(\"RGB\")  # Convert to RGB\n",
    "            new_filename = os.path.splitext(filename)[0] + \".png\"  # Change extension to .png\n",
    "            img.save(os.path.join(output_image_folder, new_filename), \"PNG\")\n",
    "            print(\"Images converted to .png successfully!\")\n",
    "            print(f\"Converted: {filename} -> {new_filename}\")\n"
   ]
  }
 ],
 "metadata": {
  "kernelspec": {
   "display_name": "fashion-env-3.9",
   "language": "python",
   "name": "python3"
  },
  "language_info": {
   "codemirror_mode": {
    "name": "ipython",
    "version": 3
   },
   "file_extension": ".py",
   "mimetype": "text/x-python",
   "name": "python",
   "nbconvert_exporter": "python",
   "pygments_lexer": "ipython3",
   "version": "3.9.21"
  }
 },
 "nbformat": 4,
 "nbformat_minor": 5
}
