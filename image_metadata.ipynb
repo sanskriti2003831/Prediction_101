{
 "cells": [
  {
   "cell_type": "code",
   "execution_count": 1,
   "id": "ff4acb7d",
   "metadata": {},
   "outputs": [],
   "source": [
    "from PIL import Image\n",
    "import os\n",
    "import csv"
   ]
  },
  {
   "cell_type": "code",
   "execution_count": 2,
   "id": "2b37fdf8",
   "metadata": {},
   "outputs": [],
   "source": [
    "import os\n",
    "import csv\n",
    "from PIL import Image\n",
    "\n",
    "def get_image_metadata(image_path):\n",
    "    # Get file name and path details\n",
    "    file_name = os.path.basename(image_path)\n",
    "    file_path = os.path.abspath(image_path)\n",
    "    file_size = os.path.getsize(image_path)\n",
    "    \n",
    "    # Open image using Pillow\n",
    "    with Image.open(image_path) as img:\n",
    "        img_format = img.format\n",
    "        img_width, img_height = img.size\n",
    "\n",
    "    # Return the metadata as a dictionary\n",
    "    metadata = {\n",
    "        'file_name': file_name,\n",
    "        'img_format': img_format,\n",
    "        'file_size': file_size,\n",
    "        'img_width': img_width,\n",
    "        'img_height': img_height,\n",
    "        'file_path': file_path\n",
    "    }\n",
    "\n",
    "    return metadata\n",
    "\n",
    "def get_metadata_from_folder(folder_path):\n",
    "    # List all files in the folder\n",
    "    image_metadata_list = []\n",
    "    \n",
    "    for filename in os.listdir(folder_path):\n",
    "        # Get full file path\n",
    "        file_path = os.path.join(folder_path, filename)\n",
    "        \n",
    "        # Process only image files (you can add more file types if needed)\n",
    "        if os.path.isfile(file_path) and filename.lower().endswith(('png', 'jpg', 'jpeg', 'gif', 'bmp')):\n",
    "            metadata = get_image_metadata(file_path)\n",
    "            image_metadata_list.append(metadata)\n",
    "\n",
    "    return image_metadata_list\n",
    "\n",
    "def save_metadata_to_csv(metadata_list, output_csv_path):\n",
    "    # Define CSV fieldnames\n",
    "    fieldnames = ['file_name', 'img_format', 'file_size', 'img_width', 'img_height', 'file_path']\n",
    "    \n",
    "    # Open CSV file in write mode\n",
    "    with open(output_csv_path, mode='w', newline='') as file:\n",
    "        writer = csv.DictWriter(file, fieldnames=fieldnames)\n",
    "        \n",
    "        # Write the header\n",
    "        writer.writeheader()\n",
    "        \n",
    "        # Write the metadata for each image\n",
    "        writer.writerows(metadata_list)"
   ]
  },
  {
   "cell_type": "code",
   "execution_count": 4,
   "id": "503f6d71",
   "metadata": {},
   "outputs": [
    {
     "name": "stdout",
     "output_type": "stream",
     "text": [
      "Metadata saved to /Users/user/Desktop/Text Files/image_metadata.csv\n"
     ]
    }
   ],
   "source": [
    "# Usage\n",
    "folder_path = '/Users/user/Desktop/Project Submission/Implementation/Source Code/Source Code/project 2/public/images/AllRunwayImages'  # Path to the folder containing images\n",
    "\n",
    "# Set the output CSV path on the desktop inside the TextFiles folder\n",
    "text_files_folder = os.path.join(os.path.expanduser('~'), 'Desktop', 'Text Files')\n",
    "\n",
    "# Check if the 'TextFiles' folder exists, if not, create it\n",
    "if not os.path.exists(text_files_folder):\n",
    "    os.makedirs(text_files_folder)\n",
    "\n",
    "# Set the path for the CSV file inside the 'TextFiles' folder\n",
    "output_csv_path = os.path.join(text_files_folder, 'image_metadata.csv')\n",
    "\n",
    "# Get metadata from all images in the folder\n",
    "all_metadata = get_metadata_from_folder(folder_path)\n",
    "\n",
    "# Save the metadata to a CSV file in the 'TextFiles' folder\n",
    "save_metadata_to_csv(all_metadata, output_csv_path)\n",
    "\n",
    "print(f\"Metadata saved to {output_csv_path}\")"
   ]
  }
 ],
 "metadata": {
  "kernelspec": {
   "display_name": "fashion-env-3.9",
   "language": "python",
   "name": "python3"
  },
  "language_info": {
   "codemirror_mode": {
    "name": "ipython",
    "version": 3
   },
   "file_extension": ".py",
   "mimetype": "text/x-python",
   "name": "python",
   "nbconvert_exporter": "python",
   "pygments_lexer": "ipython3",
   "version": "3.9.21"
  }
 },
 "nbformat": 4,
 "nbformat_minor": 5
}
