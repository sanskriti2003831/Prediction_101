{
 "cells": [
  {
   "cell_type": "code",
   "execution_count": 1,
   "id": "dc55b80f",
   "metadata": {},
   "outputs": [],
   "source": [
    "import os\n",
    "from googleapiclient.discovery import build\n",
    "from google.oauth2.service_account import Credentials\n",
    "from googleapiclient.http import MediaFileUpload\n"
   ]
  },
  {
   "cell_type": "code",
   "execution_count": 6,
   "id": "8feb70c9",
   "metadata": {},
   "outputs": [
    {
     "name": "stdout",
     "output_type": "stream",
     "text": [
      "Google Drive API connected successfully!\n",
      "Uploaded: comments.csv (File ID: 1Z8I8VnrSip4AHU1XgFlhDAvtABjxjZgA)\n"
     ]
    }
   ],
   "source": [
    "from googleapiclient.discovery import build\n",
    "from google.oauth2.service_account import Credentials\n",
    "from googleapiclient.http import MediaFileUpload\n",
    "import pandas as pd\n",
    "\n",
    "# Define the required scope\n",
    "SCOPES = ['https://www.googleapis.com/auth/drive']\n",
    "\n",
    "# Authenticate\n",
    "creds = Credentials.from_service_account_file(\n",
    "    \"/Users/user/Desktop/Prediction_101/drive-api-454402-a7abaf2ff3d9.json\",\n",
    "    scopes=SCOPES\n",
    ")\n",
    "\n",
    "# Initialize Drive API\n",
    "drive_service = build('drive', 'v3', credentials=creds)\n",
    "print(\"Google Drive API connected successfully!\")\n",
    "\n",
    "# Path to single CSV file\n",
    "file_path = '/Users/user/Desktop/Text Files/comments.csv'\n",
    "\n",
    "# Optional: Read it with pandas (not needed for upload)\n",
    "df = pd.read_csv(file_path)\n",
    "\n",
    "# Upload to this Drive folder\n",
    "folder_id = '1_e66XEPS7-81CNjxyzpM2Q5SgMeOQOG6'\n",
    "\n",
    "# File metadata\n",
    "file_metadata = {\n",
    "    \"name\": \"comments.csv\",\n",
    "    \"parents\": [folder_id]\n",
    "}\n",
    "\n",
    "media = MediaFileUpload(file_path, mimetype=\"text/csv\")\n",
    "\n",
    "uploaded_file = drive_service.files().create(\n",
    "    body=file_metadata,\n",
    "    media_body=media,\n",
    "    fields=\"id, name\"\n",
    ").execute()\n",
    "\n",
    "print(f\"Uploaded: {uploaded_file['name']} (File ID: {uploaded_file['id']})\")\n"
   ]
  },
  {
   "cell_type": "code",
   "execution_count": 7,
   "id": "c0875555",
   "metadata": {},
   "outputs": [
    {
     "name": "stdout",
     "output_type": "stream",
     "text": [
      "Google Drive API connected successfully!\n",
      "Uploaded: merged_comments_with_sentiment.csv (File ID: 1kKOgsllnX_ThlyWEMwhl9pD-7dVAf3sn)\n"
     ]
    }
   ],
   "source": [
    "from googleapiclient.discovery import build\n",
    "from google.oauth2.service_account import Credentials\n",
    "from googleapiclient.http import MediaFileUpload\n",
    "import pandas as pd\n",
    "\n",
    "# Define the required scope\n",
    "SCOPES = ['https://www.googleapis.com/auth/drive']\n",
    "\n",
    "# Authenticate\n",
    "creds = Credentials.from_service_account_file(\n",
    "    \"/Users/user/Desktop/Prediction_101/drive-api-454402-a7abaf2ff3d9.json\",\n",
    "    scopes=SCOPES\n",
    ")\n",
    "\n",
    "# Initialize Drive API\n",
    "drive_service = build('drive', 'v3', credentials=creds)\n",
    "print(\"Google Drive API connected successfully!\")\n",
    "\n",
    "# Path to single CSV file\n",
    "file_path = '/Users/user/Desktop/Text Files/merged_comments_with_sentiment.csv'\n",
    "\n",
    "# Optional: Read it with pandas (not needed for upload)\n",
    "df = pd.read_csv(file_path)\n",
    "\n",
    "# Upload to this Drive folder\n",
    "folder_id = '1zm84B7cwLJxlo7e88jwWTwObeXh5mL8V'\n",
    "\n",
    "# File metadata\n",
    "file_metadata = {\n",
    "    \"name\": \"merged_comments_with_sentiment.csv\",\n",
    "    \"parents\": [folder_id]\n",
    "}\n",
    "\n",
    "media = MediaFileUpload(file_path, mimetype=\"text/csv\")\n",
    "\n",
    "uploaded_file = drive_service.files().create(\n",
    "    body=file_metadata,\n",
    "    media_body=media,\n",
    "    fields=\"id, name\"\n",
    ").execute()\n",
    "\n",
    "print(f\"Uploaded: {uploaded_file['name']} (File ID: {uploaded_file['id']})\")\n"
   ]
  },
  {
   "cell_type": "code",
   "execution_count": null,
   "id": "f329dcd1",
   "metadata": {},
   "outputs": [
    {
     "name": "stdout",
     "output_type": "stream",
     "text": [
      "Google Drive API connected successfully!\n",
      "Uploaded: Color_Report_20250424_210109.csv (File ID: 1FHxfNCEKoCIl8S_cT9Dhbtnh3I3h2-Yr)\n"
     ]
    }
   ],
   "source": [
    "\n",
    "# Define the required scope\n",
    "SCOPES = ['https://www.googleapis.com/auth/drive']\n",
    "\n",
    "# Authenticate using the service account JSON key\n",
    "creds = Credentials.from_service_account_file(\"/Users/user/Desktop/Prediction_101/drive-api-454402-a7abaf2ff3d9.json\", scopes=SCOPES)\n",
    "\n",
    "# Initialize the Drive API service\n",
    "drive_service = build('drive', 'v3', credentials=creds)\n",
    "\n",
    "print(\"Google Drive API connected successfully!\")\n",
    "\n",
    "# Set the path to the folder containing the CSV files on your desktop\n",
    "folder_path = \"/Users/user/Desktop/Color Percentage Report\"  # Update to your folder path containing CSV files\n",
    "\n",
    "# Set the folder ID to upload the files\n",
    "folder_id = '1Ga8ODFpShNsJU3qpvOgImim1wibl9GzL'  # Replace with your folder ID\n",
    "\n",
    "# Iterate through the files in the folder\n",
    "for filename in os.listdir(folder_path):\n",
    "    file_path = os.path.join(folder_path, filename)\n",
    "\n",
    "    # Skip directories and ensure only CSV files are uploaded\n",
    "    if os.path.isdir(file_path) or not filename.lower().endswith(('.csv')):\n",
    "        continue\n",
    "\n",
    "    # Specify the file metadata for uploading the CSV file\n",
    "    file_metadata = {\n",
    "        \"name\": filename,  # Use the file name as it will appear on Google Drive\n",
    "        \"parents\": [folder_id]   # Upload to the designated Google Drive folder\n",
    "    }\n",
    "\n",
    "    # Set the MIME type for CSV files\n",
    "    media = MediaFileUpload(file_path, mimetype=\"application/vnd.ms-excel\")  # Correct MIME type for CSV\n",
    "\n",
    "    # Upload the file\n",
    "    file = drive_service.files().create(body=file_metadata, media_body=media, fields=\"id, name\").execute()\n",
    "\n",
    "    # Output the file upload status\n",
    "    print(f\"Uploaded: {file['name']} (File ID: {file['id']})\")\n"
   ]
  }
 ],
 "metadata": {
  "kernelspec": {
   "display_name": "fashion-env-3.9",
   "language": "python",
   "name": "python3"
  },
  "language_info": {
   "codemirror_mode": {
    "name": "ipython",
    "version": 3
   },
   "file_extension": ".py",
   "mimetype": "text/x-python",
   "name": "python",
   "nbconvert_exporter": "python",
   "pygments_lexer": "ipython3",
   "version": "3.9.21"
  }
 },
 "nbformat": 4,
 "nbformat_minor": 5
}
